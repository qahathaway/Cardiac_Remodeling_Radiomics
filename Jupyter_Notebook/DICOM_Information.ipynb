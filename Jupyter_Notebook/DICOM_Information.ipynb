{
 "cells": [
  {
   "cell_type": "code",
   "execution_count": null,
   "metadata": {},
   "outputs": [],
   "source": [
    "import pydicom as dicom\n",
    "import os\n",
    "import PIL # optional\n",
    "import pandas as pd\n",
    "import csv\n",
    "# list of attributes available in dicom image\n",
    "# download this file from the given github link\n",
    "dicom_image_description = pd.read_csv(\"/path/to/file.csv\")"
   ]
  },
  {
   "cell_type": "code",
   "execution_count": null,
   "metadata": {},
   "outputs": [],
   "source": [
    "# Specify the .dcm folder path\n",
    "folder_path = \"/path/to/directory\"\n",
    "images_path = os.listdir(folder_path)"
   ]
  },
  {
   "cell_type": "code",
   "execution_count": null,
   "metadata": {},
   "outputs": [],
   "source": [
    "with open('/path/to/file.csv', 'w', newline ='') as csvfile:\n",
    "    fieldnames = list(dicom_image_description[\"Description\"])\n",
    "    writer = csv.writer(csvfile, delimiter=',')\n",
    "    writer.writerow(fieldnames)\n",
    "    for n, image in enumerate(images_path):\n",
    "        ds = dicom.dcmread(os.path.join(folder_path, image))\n",
    "        rows = []\n",
    "        for field in fieldnames:\n",
    "            if ds.data_element(field) is None:\n",
    "                rows.append('')\n",
    "            else:\n",
    "                x = str(ds.data_element(field)).replace(\"'\", \"\")\n",
    "                y = x.find(\":\")\n",
    "                x = x[y+2:]\n",
    "                rows.append(x)\n",
    "        writer.writerow(rows)"
   ]
  },
  {
   "cell_type": "code",
   "execution_count": null,
   "metadata": {},
   "outputs": [],
   "source": []
  }
 ],
 "metadata": {
  "kernelspec": {
   "display_name": "Python 3",
   "language": "python",
   "name": "python3"
  },
  "language_info": {
   "codemirror_mode": {
    "name": "ipython",
    "version": 3
   },
   "file_extension": ".py",
   "mimetype": "text/x-python",
   "name": "python",
   "nbconvert_exporter": "python",
   "pygments_lexer": "ipython3",
   "version": "3.7.6"
  }
 },
 "nbformat": 4,
 "nbformat_minor": 4
}
