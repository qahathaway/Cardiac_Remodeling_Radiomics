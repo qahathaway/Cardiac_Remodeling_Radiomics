{
 "cells": [
  {
   "cell_type": "code",
   "execution_count": null,
   "metadata": {},
   "outputs": [],
   "source": [
    "# Load Packages #\n",
    "\n",
    "from __future__ import print_function\n",
    "\n",
    "import collections\n",
    "import csv\n",
    "import logging\n",
    "\n",
    "import SimpleITK as sitk\n",
    "\n",
    "import radiomics\n",
    "from radiomics import featureextractor\n",
    "import pydicom\n",
    "import pylab\n",
    "from pydicom import dcmread\n",
    "\n",
    "from numpy import asarray\n",
    "import numpy as np\n",
    "import pandas as pd\n",
    "import nrrd\n",
    "\n",
    "import os\n",
    "from os import path, rename\n",
    "from PIL import Image\n",
    "import PIL.ImageOps"
   ]
  },
  {
   "cell_type": "code",
   "execution_count": null,
   "metadata": {},
   "outputs": [],
   "source": [
    "Output = '/path/to/directory/'\n",
    "\n",
    "for filename in os.listdir('/path/to/directory/'):\n",
    "    if filename.endswith('segmentation_IVS.png'):\n",
    "        ##Open Mask File##\n",
    "        mask = Image.open(os.path.join('/path/to/directory/', filename))\n",
    "        ##Convert to B&W##\n",
    "        thresh = 100\n",
    "        fn = lambda x : 255 if x > thresh else 0\n",
    "        mask1 = mask.convert('L').point(fn, mode='L')\n",
    "        ##Prepare for Cropping##\n",
    "        width, height = mask1.size   # Get dimensions\n",
    "        left = width/4.47\n",
    "        top = height/4.50\n",
    "        right = 3 * width/3.75\n",
    "        bottom = 3 * height/3.38\n",
    "        mask1_cropped = mask1.crop((left, top, right, bottom))\n",
    "        mask1_cropped.save(path.join(Output, filename))\n",
    "    if filename.endswith('original_IVS.png'):\n",
    "        ##Open Image File##\n",
    "        image1 = Image.open(os.path.join('/path/to/directory/', filename))\n",
    "        ##Prepare for Cropping##\n",
    "        width, height = image1.size   # Get dimensions\n",
    "        left = width/4.47\n",
    "        top = height/4.50\n",
    "        right = 3 * width/3.75\n",
    "        bottom = 3 * height/3.38\n",
    "        image1_cropped = image1.crop((left, top, right, bottom))\n",
    "        image1_cropped.save(path.join(Output, filename))"
   ]
  },
  {
   "cell_type": "code",
   "execution_count": null,
   "metadata": {},
   "outputs": [],
   "source": []
  }
 ],
 "metadata": {
  "kernelspec": {
   "display_name": "Python 3",
   "language": "python",
   "name": "python3"
  },
  "language_info": {
   "codemirror_mode": {
    "name": "ipython",
    "version": 3
   },
   "file_extension": ".py",
   "mimetype": "text/x-python",
   "name": "python",
   "nbconvert_exporter": "python",
   "pygments_lexer": "ipython3",
   "version": "3.7.6"
  }
 },
 "nbformat": 4,
 "nbformat_minor": 4
}
